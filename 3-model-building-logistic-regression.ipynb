{
 "metadata": {
  "language_info": {
   "codemirror_mode": {
    "name": "ipython",
    "version": 3
   },
   "file_extension": ".py",
   "mimetype": "text/x-python",
   "name": "python",
   "nbconvert_exporter": "python",
   "pygments_lexer": "ipython3",
   "version": "3.9.2-final"
  },
  "orig_nbformat": 2,
  "kernelspec": {
   "name": "python392jvsc74a57bd0b3bd099373ac6196c54af3604d576270990f67f45fdd913a085e54ebe5a36e3f",
   "display_name": "Python 3.9.2 64-bit ('CapstoneProject': conda)"
  }
 },
 "nbformat": 4,
 "nbformat_minor": 2,
 "cells": [
  {
   "source": [
    "# Credit Card Fraud Detection\n",
    "by **Sai Vamsy Dhulipala**"
   ],
   "cell_type": "markdown",
   "metadata": {}
  },
  {
   "source": [
    "## Part III - Model Building using Logistic Regression"
   ],
   "cell_type": "markdown",
   "metadata": {}
  },
  {
   "source": [
    "## Importing necessary packages"
   ],
   "cell_type": "markdown",
   "metadata": {}
  },
  {
   "cell_type": "code",
   "execution_count": 1,
   "metadata": {},
   "outputs": [],
   "source": [
    "import numpy as np\n",
    "import pandas as pd\n",
    "pd.set_option(\"display.max_columns\", 400)"
   ]
  },
  {
   "cell_type": "code",
   "execution_count": 2,
   "metadata": {},
   "outputs": [],
   "source": [
    "import matplotlib.pyplot as plt\n",
    "import seaborn as sns\n",
    "\n",
    "plt.style.use(\"ggplot\")\n",
    "%matplotlib inline"
   ]
  },
  {
   "cell_type": "code",
   "execution_count": 3,
   "metadata": {},
   "outputs": [],
   "source": [
    "from os import chdir, getcwd\n",
    "import pickle"
   ]
  },
  {
   "cell_type": "code",
   "execution_count": 4,
   "metadata": {},
   "outputs": [],
   "source": [
    "from sklearn.linear_model import SGDClassifier\n",
    "\n",
    "from sklearn.model_selection import cross_validate, StratifiedKFold\n",
    "from sklearn.feature_selection import RFECV"
   ]
  },
  {
   "source": [
    "## Importing the data"
   ],
   "cell_type": "markdown",
   "metadata": {}
  },
  {
   "source": [
    "### Defining a function to read the data"
   ],
   "cell_type": "markdown",
   "metadata": {}
  },
  {
   "cell_type": "code",
   "execution_count": 5,
   "metadata": {},
   "outputs": [],
   "source": [
    "def read_resampled_data(name):\n",
    "    file = pickle.load(open(getcwd() + \"/data/resampled_data/\" + name + \"_resampled.pkl\",\"rb\"))\n",
    "    return file"
   ]
  },
  {
   "source": [
    "### Reading the data"
   ],
   "cell_type": "markdown",
   "metadata": {}
  },
  {
   "cell_type": "code",
   "execution_count": 6,
   "metadata": {},
   "outputs": [],
   "source": [
    "folder_path = input(\"Please provide the path of the folder, by replacing \\\\ as /:\")\n",
    "chdir(folder_path)"
   ]
  },
  {
   "cell_type": "code",
   "execution_count": 7,
   "metadata": {},
   "outputs": [],
   "source": [
    "X_resampled = read_resampled_data(\"X\")\n",
    "y_resampled = read_resampled_data(\"y\")"
   ]
  },
  {
   "source": [
    "## Model building"
   ],
   "cell_type": "markdown",
   "metadata": {}
  },
  {
   "source": [
    "### Defining a function to print the grid scores from RFECV"
   ],
   "cell_type": "markdown",
   "metadata": {}
  },
  {
   "cell_type": "code",
   "execution_count": 8,
   "metadata": {},
   "outputs": [],
   "source": [
    "def plot_rfe_result(grid_scores):\n",
    "    \n",
    "    fig, ax = plt.subplots(figsize=(15,5))\n",
    "\n",
    "    plt.plot(grid_scores)\n",
    "\n",
    "    ax.set_xlabel(\"Features\")\n",
    "    ax.set_ylabel(\"Recall\")\n",
    "\n",
    "    fig.show()"
   ]
  },
  {
   "source": [
    "### Logistic Regression"
   ],
   "cell_type": "markdown",
   "metadata": {}
  },
  {
   "source": [
    " SGD Classifier has been used in this case since the size of the data is quite huge and SGD Classifier would be appropriate to model such data."
   ],
   "cell_type": "markdown",
   "metadata": {}
  },
  {
   "cell_type": "code",
   "execution_count": 9,
   "metadata": {},
   "outputs": [],
   "source": [
    "log_reg = SGDClassifier(\n",
    "    loss=\"log\",\n",
    "    verbose=1,\n",
    "    n_jobs=-1,\n",
    "    random_state=42,\n",
    "    early_stopping=True\n",
    ")"
   ]
  },
  {
   "source": [
    "#### Performing RFECV to select the optimal features for modeling"
   ],
   "cell_type": "markdown",
   "metadata": {}
  },
  {
   "cell_type": "code",
   "execution_count": 10,
   "metadata": {},
   "outputs": [],
   "source": [
    "rfecv_log_reg = RFECV(\n",
    "    estimator=log_reg,\n",
    "    cv=StratifiedKFold(5, shuffle=True, random_state=42),\n",
    "    scoring=\"recall\",\n",
    "    n_jobs=-1,\n",
    "    verbose=1\n",
    ")"
   ]
  },
  {
   "cell_type": "code",
   "execution_count": 11,
   "metadata": {},
   "outputs": [
    {
     "output_type": "stream",
     "name": "stdout",
     "text": [
      "Fitting estimator with 68 features.\n",
      "-- Epoch 1\n",
      "Norm: 5.92, NNZs: 68, Bias: -4.420757, T: 690705, Avg. loss: 1.760182\n",
      "Total training time: 0.54 seconds.\n",
      "-- Epoch 2\n",
      "Norm: 4.58, NNZs: 68, Bias: -3.678735, T: 1381410, Avg. loss: 0.237738\n",
      "Total training time: 1.65 seconds.\n",
      "-- Epoch 3\n",
      "Norm: 3.92, NNZs: 68, Bias: -3.323411, T: 2072115, Avg. loss: 0.211713\n",
      "Total training time: 2.62 seconds.\n",
      "-- Epoch 4\n",
      "Norm: 3.95, NNZs: 68, Bias: -3.376587, T: 2762820, Avg. loss: 0.203159\n",
      "Total training time: 3.63 seconds.\n",
      "-- Epoch 5\n",
      "Norm: 3.93, NNZs: 68, Bias: -3.306371, T: 3453525, Avg. loss: 0.198981\n",
      "Total training time: 4.61 seconds.\n",
      "-- Epoch 6\n",
      "Norm: 3.68, NNZs: 68, Bias: -3.232528, T: 4144230, Avg. loss: 0.196619\n",
      "Total training time: 5.60 seconds.\n",
      "Convergence after 6 epochs took 6.00 seconds\n",
      "Fitting estimator with 67 features.\n",
      "-- Epoch 1\n",
      "Norm: 5.19, NNZs: 67, Bias: -4.233834, T: 690705, Avg. loss: 1.585822\n",
      "Total training time: 0.54 seconds.\n",
      "-- Epoch 2\n",
      "Norm: 4.65, NNZs: 67, Bias: -3.635486, T: 1381410, Avg. loss: 0.233561\n",
      "Total training time: 1.49 seconds.\n",
      "-- Epoch 3\n",
      "Norm: 3.86, NNZs: 67, Bias: -3.292457, T: 2072115, Avg. loss: 0.209312\n",
      "Total training time: 2.47 seconds.\n",
      "-- Epoch 4\n",
      "Norm: 3.99, NNZs: 67, Bias: -3.362943, T: 2762820, Avg. loss: 0.202126\n",
      "Total training time: 3.46 seconds.\n",
      "-- Epoch 5\n",
      "Norm: 3.82, NNZs: 67, Bias: -3.291352, T: 3453525, Avg. loss: 0.198099\n",
      "Total training time: 4.47 seconds.\n",
      "-- Epoch 6\n",
      "Norm: 3.66, NNZs: 67, Bias: -3.220780, T: 4144230, Avg. loss: 0.195959\n",
      "Total training time: 5.48 seconds.\n",
      "Convergence after 6 epochs took 5.90 seconds\n",
      "Fitting estimator with 66 features.\n",
      "-- Epoch 1\n",
      "Norm: 5.12, NNZs: 66, Bias: -4.169624, T: 690705, Avg. loss: 1.525345\n",
      "Total training time: 0.53 seconds.\n",
      "-- Epoch 2\n",
      "Norm: 4.80, NNZs: 66, Bias: -3.610952, T: 1381410, Avg. loss: 0.232707\n",
      "Total training time: 1.49 seconds.\n",
      "-- Epoch 3\n",
      "Norm: 4.02, NNZs: 66, Bias: -3.270099, T: 2072115, Avg. loss: 0.208715\n",
      "Total training time: 2.47 seconds.\n",
      "-- Epoch 4\n",
      "Norm: 3.88, NNZs: 66, Bias: -3.347857, T: 2762820, Avg. loss: 0.201118\n",
      "Total training time: 3.44 seconds.\n",
      "-- Epoch 5\n",
      "Norm: 3.76, NNZs: 66, Bias: -3.278895, T: 3453525, Avg. loss: 0.197825\n",
      "Total training time: 4.43 seconds.\n",
      "-- Epoch 6\n",
      "Norm: 3.62, NNZs: 66, Bias: -3.215240, T: 4144230, Avg. loss: 0.195552\n",
      "Total training time: 5.42 seconds.\n",
      "-- Epoch 7\n",
      "Norm: 3.63, NNZs: 66, Bias: -3.200249, T: 4834935, Avg. loss: 0.194292\n",
      "Total training time: 6.44 seconds.\n",
      "Convergence after 7 epochs took 6.84 seconds\n",
      "Fitting estimator with 65 features.\n",
      "-- Epoch 1\n",
      "Norm: 5.02, NNZs: 65, Bias: -4.059064, T: 690705, Avg. loss: 1.429864\n",
      "Total training time: 0.54 seconds.\n",
      "-- Epoch 2\n",
      "Norm: 4.77, NNZs: 65, Bias: -3.585403, T: 1381410, Avg. loss: 0.228784\n",
      "Total training time: 1.49 seconds.\n",
      "-- Epoch 3\n",
      "Norm: 4.21, NNZs: 65, Bias: -3.261755, T: 2072115, Avg. loss: 0.207719\n",
      "Total training time: 2.46 seconds.\n",
      "-- Epoch 4\n",
      "Norm: 3.87, NNZs: 65, Bias: -3.337679, T: 2762820, Avg. loss: 0.201320\n",
      "Total training time: 3.39 seconds.\n",
      "-- Epoch 5\n",
      "Norm: 3.76, NNZs: 65, Bias: -3.262629, T: 3453525, Avg. loss: 0.197461\n",
      "Total training time: 4.38 seconds.\n",
      "-- Epoch 6\n",
      "Norm: 3.63, NNZs: 65, Bias: -3.209908, T: 4144230, Avg. loss: 0.195901\n",
      "Total training time: 5.34 seconds.\n",
      "Convergence after 6 epochs took 5.76 seconds\n",
      "Fitting estimator with 64 features.\n",
      "-- Epoch 1\n",
      "Norm: 4.94, NNZs: 64, Bias: -4.037532, T: 690705, Avg. loss: 1.442714\n",
      "Total training time: 0.55 seconds.\n",
      "-- Epoch 2\n",
      "Norm: 4.44, NNZs: 64, Bias: -3.569451, T: 1381410, Avg. loss: 0.228606\n",
      "Total training time: 1.44 seconds.\n",
      "-- Epoch 3\n",
      "Norm: 3.83, NNZs: 64, Bias: -3.246253, T: 2072115, Avg. loss: 0.207327\n",
      "Total training time: 2.39 seconds.\n",
      "-- Epoch 4\n",
      "Norm: 3.87, NNZs: 64, Bias: -3.334973, T: 2762820, Avg. loss: 0.200940\n",
      "Total training time: 3.33 seconds.\n",
      "-- Epoch 5\n",
      "Norm: 3.77, NNZs: 64, Bias: -3.262477, T: 3453525, Avg. loss: 0.197466\n",
      "Total training time: 4.27 seconds.\n",
      "-- Epoch 6\n",
      "Norm: 3.62, NNZs: 64, Bias: -3.206773, T: 4144230, Avg. loss: 0.195503\n",
      "Total training time: 5.25 seconds.\n",
      "Convergence after 6 epochs took 5.65 seconds\n",
      "Fitting estimator with 63 features.\n",
      "-- Epoch 1\n",
      "Norm: 6.22, NNZs: 63, Bias: -3.921874, T: 690705, Avg. loss: 1.218681\n",
      "Total training time: 0.50 seconds.\n",
      "-- Epoch 2\n",
      "Norm: 4.31, NNZs: 63, Bias: -3.470649, T: 1381410, Avg. loss: 0.220288\n",
      "Total training time: 1.42 seconds.\n",
      "-- Epoch 3\n",
      "Norm: 3.77, NNZs: 63, Bias: -3.187729, T: 2072115, Avg. loss: 0.203271\n",
      "Total training time: 2.39 seconds.\n",
      "-- Epoch 4\n",
      "Norm: 3.85, NNZs: 63, Bias: -3.293260, T: 2762820, Avg. loss: 0.198132\n",
      "Total training time: 3.34 seconds.\n",
      "-- Epoch 5\n",
      "Norm: 3.75, NNZs: 63, Bias: -3.232111, T: 3453525, Avg. loss: 0.195616\n",
      "Total training time: 4.30 seconds.\n",
      "-- Epoch 6\n",
      "Norm: 3.66, NNZs: 63, Bias: -3.187365, T: 4144230, Avg. loss: 0.194089\n",
      "Total training time: 5.26 seconds.\n",
      "Convergence after 6 epochs took 5.65 seconds\n",
      "Fitting estimator with 62 features.\n",
      "-- Epoch 1\n",
      "Norm: 4.54, NNZs: 62, Bias: -3.743715, T: 690705, Avg. loss: 1.208952\n",
      "Total training time: 0.54 seconds.\n",
      "-- Epoch 2\n",
      "Norm: 4.30, NNZs: 62, Bias: -3.447301, T: 1381410, Avg. loss: 0.218791\n",
      "Total training time: 1.42 seconds.\n",
      "-- Epoch 3\n",
      "Norm: 3.75, NNZs: 62, Bias: -3.180440, T: 2072115, Avg. loss: 0.202771\n",
      "Total training time: 2.34 seconds.\n",
      "-- Epoch 4\n",
      "Norm: 3.87, NNZs: 62, Bias: -3.292163, T: 2762820, Avg. loss: 0.197993\n",
      "Total training time: 3.31 seconds.\n",
      "-- Epoch 5\n",
      "Norm: 3.74, NNZs: 62, Bias: -3.228929, T: 3453525, Avg. loss: 0.195376\n",
      "Total training time: 4.24 seconds.\n",
      "-- Epoch 6\n",
      "Norm: 3.59, NNZs: 62, Bias: -3.180345, T: 4144230, Avg. loss: 0.193995\n",
      "Total training time: 5.19 seconds.\n",
      "Convergence after 6 epochs took 5.56 seconds\n",
      "Fitting estimator with 61 features.\n",
      "-- Epoch 1\n",
      "Norm: 4.52, NNZs: 61, Bias: -3.741110, T: 690705, Avg. loss: 1.207279\n",
      "Total training time: 0.55 seconds.\n",
      "-- Epoch 2\n",
      "Norm: 4.32, NNZs: 61, Bias: -3.447917, T: 1381410, Avg. loss: 0.217928\n",
      "Total training time: 1.43 seconds.\n",
      "-- Epoch 3\n",
      "Norm: 3.83, NNZs: 61, Bias: -3.180513, T: 2072115, Avg. loss: 0.202718\n",
      "Total training time: 2.34 seconds.\n",
      "-- Epoch 4\n",
      "Norm: 3.88, NNZs: 61, Bias: -3.293449, T: 2762820, Avg. loss: 0.197757\n",
      "Total training time: 3.30 seconds.\n",
      "-- Epoch 5\n",
      "Norm: 3.78, NNZs: 61, Bias: -3.229607, T: 3453525, Avg. loss: 0.195277\n",
      "Total training time: 4.22 seconds.\n",
      "-- Epoch 6\n",
      "Norm: 3.60, NNZs: 61, Bias: -3.179828, T: 4144230, Avg. loss: 0.193825\n",
      "Total training time: 5.20 seconds.\n",
      "Convergence after 6 epochs took 5.61 seconds\n",
      "Fitting estimator with 60 features.\n",
      "-- Epoch 1\n",
      "Norm: 4.69, NNZs: 60, Bias: -3.683887, T: 690705, Avg. loss: 1.188830\n",
      "Total training time: 0.49 seconds.\n",
      "-- Epoch 2\n",
      "Norm: 4.35, NNZs: 60, Bias: -3.410098, T: 1381410, Avg. loss: 0.217434\n",
      "Total training time: 1.38 seconds.\n",
      "-- Epoch 3\n",
      "Norm: 3.75, NNZs: 60, Bias: -3.161741, T: 2072115, Avg. loss: 0.202754\n",
      "Total training time: 2.28 seconds.\n",
      "-- Epoch 4\n",
      "Norm: 3.82, NNZs: 60, Bias: -3.266132, T: 2762820, Avg. loss: 0.198199\n",
      "Total training time: 3.19 seconds.\n",
      "-- Epoch 5\n",
      "Norm: 3.72, NNZs: 60, Bias: -3.204455, T: 3453525, Avg. loss: 0.195506\n",
      "Total training time: 4.10 seconds.\n",
      "-- Epoch 6\n",
      "Norm: 3.59, NNZs: 60, Bias: -3.160914, T: 4144230, Avg. loss: 0.194313\n",
      "Total training time: 5.07 seconds.\n",
      "Convergence after 6 epochs took 5.44 seconds\n",
      "Fitting estimator with 59 features.\n",
      "-- Epoch 1\n",
      "Norm: 4.55, NNZs: 59, Bias: -3.705985, T: 690705, Avg. loss: 1.463561\n",
      "Total training time: 0.51 seconds.\n",
      "-- Epoch 2\n",
      "Norm: 4.26, NNZs: 59, Bias: -3.406052, T: 1381410, Avg. loss: 0.217877\n",
      "Total training time: 1.41 seconds.\n",
      "-- Epoch 3\n",
      "Norm: 3.74, NNZs: 59, Bias: -3.158543, T: 2072115, Avg. loss: 0.202224\n",
      "Total training time: 2.31 seconds.\n",
      "-- Epoch 4\n",
      "Norm: 3.83, NNZs: 59, Bias: -3.267918, T: 2762820, Avg. loss: 0.197802\n",
      "Total training time: 3.22 seconds.\n",
      "-- Epoch 5\n",
      "Norm: 3.74, NNZs: 59, Bias: -3.202085, T: 3453525, Avg. loss: 0.195357\n",
      "Total training time: 4.14 seconds.\n",
      "-- Epoch 6\n",
      "Norm: 3.61, NNZs: 59, Bias: -3.160397, T: 4144230, Avg. loss: 0.194116\n",
      "Total training time: 5.07 seconds.\n",
      "Convergence after 6 epochs took 5.45 seconds\n",
      "Fitting estimator with 58 features.\n",
      "-- Epoch 1\n",
      "Norm: 4.54, NNZs: 58, Bias: -3.707273, T: 690705, Avg. loss: 1.417002\n",
      "Total training time: 0.52 seconds.\n",
      "-- Epoch 2\n",
      "Norm: 4.25, NNZs: 58, Bias: -3.407319, T: 1381410, Avg. loss: 0.216179\n",
      "Total training time: 1.39 seconds.\n",
      "-- Epoch 3\n",
      "Norm: 3.77, NNZs: 58, Bias: -3.158799, T: 2072115, Avg. loss: 0.201715\n",
      "Total training time: 2.26 seconds.\n",
      "-- Epoch 4\n",
      "Norm: 3.85, NNZs: 58, Bias: -3.262372, T: 2762820, Avg. loss: 0.197484\n",
      "Total training time: 3.17 seconds.\n",
      "-- Epoch 5\n",
      "Norm: 3.76, NNZs: 58, Bias: -3.204658, T: 3453525, Avg. loss: 0.195265\n",
      "Total training time: 4.11 seconds.\n",
      "-- Epoch 6\n",
      "Norm: 3.62, NNZs: 58, Bias: -3.162241, T: 4144230, Avg. loss: 0.194131\n",
      "Total training time: 5.04 seconds.\n",
      "Convergence after 6 epochs took 5.42 seconds\n",
      "Fitting estimator with 57 features.\n",
      "-- Epoch 1\n",
      "Norm: 4.51, NNZs: 57, Bias: -3.702237, T: 690705, Avg. loss: 1.479223\n",
      "Total training time: 0.52 seconds.\n",
      "-- Epoch 2\n",
      "Norm: 4.25, NNZs: 57, Bias: -3.407767, T: 1381410, Avg. loss: 0.220206\n",
      "Total training time: 1.41 seconds.\n",
      "-- Epoch 3\n",
      "Norm: 3.76, NNZs: 57, Bias: -3.158921, T: 2072115, Avg. loss: 0.201767\n",
      "Total training time: 2.28 seconds.\n",
      "-- Epoch 4\n",
      "Norm: 3.83, NNZs: 57, Bias: -3.262554, T: 2762820, Avg. loss: 0.197559\n",
      "Total training time: 3.19 seconds.\n",
      "-- Epoch 5\n",
      "Norm: 3.74, NNZs: 57, Bias: -3.203763, T: 3453525, Avg. loss: 0.195272\n",
      "Total training time: 4.10 seconds.\n",
      "-- Epoch 6\n",
      "Norm: 3.61, NNZs: 57, Bias: -3.161486, T: 4144230, Avg. loss: 0.194143\n",
      "Total training time: 5.01 seconds.\n",
      "Convergence after 6 epochs took 5.40 seconds\n",
      "Fitting estimator with 56 features.\n",
      "-- Epoch 1\n",
      "Norm: 6.32, NNZs: 56, Bias: -4.576410, T: 690705, Avg. loss: 1.489801\n",
      "Total training time: 0.51 seconds.\n",
      "-- Epoch 2\n",
      "Norm: 4.24, NNZs: 56, Bias: -3.404982, T: 1381410, Avg. loss: 0.221216\n",
      "Total training time: 1.36 seconds.\n",
      "-- Epoch 3\n",
      "Norm: 3.75, NNZs: 56, Bias: -3.156998, T: 2072115, Avg. loss: 0.201225\n",
      "Total training time: 2.26 seconds.\n",
      "-- Epoch 4\n",
      "Norm: 3.82, NNZs: 56, Bias: -3.260237, T: 2762820, Avg. loss: 0.197297\n",
      "Total training time: 3.13 seconds.\n",
      "-- Epoch 5\n",
      "Norm: 3.73, NNZs: 56, Bias: -3.202549, T: 3453525, Avg. loss: 0.195149\n",
      "Total training time: 4.06 seconds.\n",
      "-- Epoch 6\n",
      "Norm: 3.59, NNZs: 56, Bias: -3.159983, T: 4144230, Avg. loss: 0.194070\n",
      "Total training time: 4.99 seconds.\n",
      "Convergence after 6 epochs took 5.37 seconds\n",
      "Fitting estimator with 55 features.\n",
      "-- Epoch 1\n",
      "Norm: 4.50, NNZs: 55, Bias: -3.690143, T: 690705, Avg. loss: 1.444208\n",
      "Total training time: 0.53 seconds.\n",
      "-- Epoch 2\n",
      "Norm: 4.22, NNZs: 55, Bias: -3.398238, T: 1381410, Avg. loss: 0.220020\n",
      "Total training time: 1.43 seconds.\n",
      "-- Epoch 3\n",
      "Norm: 3.75, NNZs: 55, Bias: -3.144624, T: 2072115, Avg. loss: 0.201212\n",
      "Total training time: 2.32 seconds.\n",
      "-- Epoch 4\n",
      "Norm: 3.81, NNZs: 55, Bias: -3.257352, T: 2762820, Avg. loss: 0.197160\n",
      "Total training time: 3.21 seconds.\n",
      "-- Epoch 5\n",
      "Norm: 3.73, NNZs: 55, Bias: -3.198433, T: 3453525, Avg. loss: 0.195016\n",
      "Total training time: 4.12 seconds.\n",
      "-- Epoch 6\n",
      "Norm: 3.59, NNZs: 55, Bias: -3.159770, T: 4144230, Avg. loss: 0.193967\n",
      "Total training time: 5.03 seconds.\n",
      "Convergence after 6 epochs took 5.40 seconds\n",
      "Fitting estimator with 54 features.\n",
      "-- Epoch 1\n",
      "Norm: 5.31, NNZs: 54, Bias: -4.086702, T: 690705, Avg. loss: 1.563189\n",
      "Total training time: 0.52 seconds.\n",
      "-- Epoch 2\n",
      "Norm: 4.22, NNZs: 54, Bias: -3.381806, T: 1381410, Avg. loss: 0.219501\n",
      "Total training time: 1.36 seconds.\n",
      "-- Epoch 3\n",
      "Norm: 3.73, NNZs: 54, Bias: -3.132271, T: 2072115, Avg. loss: 0.200916\n",
      "Total training time: 2.20 seconds.\n",
      "-- Epoch 4\n",
      "Norm: 3.81, NNZs: 54, Bias: -3.248321, T: 2762820, Avg. loss: 0.197014\n",
      "Total training time: 3.11 seconds.\n",
      "-- Epoch 5\n",
      "Norm: 3.73, NNZs: 54, Bias: -3.189506, T: 3453525, Avg. loss: 0.194983\n",
      "Total training time: 4.02 seconds.\n",
      "-- Epoch 6\n",
      "Norm: 3.58, NNZs: 54, Bias: -3.151919, T: 4144230, Avg. loss: 0.193970\n",
      "Total training time: 4.91 seconds.\n",
      "Convergence after 6 epochs took 5.30 seconds\n",
      "-- Epoch 1\n",
      "Norm: 5.96, NNZs: 53, Bias: -4.275973, T: 690705, Avg. loss: 1.386679\n",
      "Total training time: 0.51 seconds.\n",
      "-- Epoch 2\n",
      "Norm: 4.15, NNZs: 53, Bias: -3.318139, T: 1381410, Avg. loss: 0.216008\n",
      "Total training time: 1.37 seconds.\n",
      "-- Epoch 3\n",
      "Norm: 3.77, NNZs: 53, Bias: -3.158215, T: 2072115, Avg. loss: 0.198776\n",
      "Total training time: 2.23 seconds.\n",
      "-- Epoch 4\n",
      "Norm: 3.78, NNZs: 53, Bias: -3.213558, T: 2762820, Avg. loss: 0.195568\n",
      "Total training time: 3.14 seconds.\n",
      "-- Epoch 5\n",
      "Norm: 3.70, NNZs: 53, Bias: -3.159389, T: 3453525, Avg. loss: 0.194023\n",
      "Total training time: 4.06 seconds.\n",
      "-- Epoch 6\n",
      "Norm: 3.57, NNZs: 53, Bias: -3.126519, T: 4144230, Avg. loss: 0.193220\n",
      "Total training time: 4.98 seconds.\n",
      "Convergence after 6 epochs took 5.34 seconds\n",
      "-- Epoch 1\n",
      "Norm: 5.96, NNZs: 53, Bias: -4.275973, T: 690705, Avg. loss: 1.386679\n",
      "Total training time: 0.49 seconds.\n",
      "-- Epoch 2\n",
      "Norm: 4.15, NNZs: 53, Bias: -3.318139, T: 1381410, Avg. loss: 0.216008\n",
      "Total training time: 1.35 seconds.\n",
      "-- Epoch 3\n",
      "Norm: 3.77, NNZs: 53, Bias: -3.158215, T: 2072115, Avg. loss: 0.198776\n",
      "Total training time: 2.24 seconds.\n",
      "-- Epoch 4\n",
      "Norm: 3.78, NNZs: 53, Bias: -3.213558, T: 2762820, Avg. loss: 0.195568\n",
      "Total training time: 3.11 seconds.\n",
      "-- Epoch 5\n",
      "Norm: 3.70, NNZs: 53, Bias: -3.159389, T: 3453525, Avg. loss: 0.194023\n",
      "Total training time: 4.02 seconds.\n",
      "-- Epoch 6\n",
      "Norm: 3.57, NNZs: 53, Bias: -3.126519, T: 4144230, Avg. loss: 0.193220\n",
      "Total training time: 4.89 seconds.\n",
      "Convergence after 6 epochs took 5.28 seconds\n"
     ]
    }
   ],
   "source": [
    "rfecv_log_reg = rfecv_log_reg.fit(X_resampled, y_resampled)"
   ]
  },
  {
   "cell_type": "code",
   "execution_count": 12,
   "metadata": {},
   "outputs": [
    {
     "output_type": "stream",
     "name": "stderr",
     "text": [
      "<ipython-input-8-fa9cc244fc19>:10: UserWarning: Matplotlib is currently using module://ipykernel.pylab.backend_inline, which is a non-GUI backend, so cannot show the figure.\n  fig.show()\n"
     ]
    },
    {
     "output_type": "display_data",
     "data": {
      "text/plain": "<Figure size 1080x360 with 1 Axes>",
      "image/svg+xml": "<?xml version=\"1.0\" encoding=\"utf-8\" standalone=\"no\"?>\r\n<!DOCTYPE svg PUBLIC \"-//W3C//DTD SVG 1.1//EN\"\r\n  \"http://www.w3.org/Graphics/SVG/1.1/DTD/svg11.dtd\">\r\n<!-- Created with matplotlib (https://matplotlib.org/) -->\r\n<svg height=\"319.044474pt\" version=\"1.1\" viewBox=\"0 0 905.029477 319.044474\" width=\"905.029477pt\" xmlns=\"http://www.w3.org/2000/svg\" xmlns:xlink=\"http://www.w3.org/1999/xlink\">\r\n <metadata>\r\n  <rdf:RDF xmlns:cc=\"http://creativecommons.org/ns#\" xmlns:dc=\"http://purl.org/dc/elements/1.1/\" xmlns:rdf=\"http://www.w3.org/1999/02/22-rdf-syntax-ns#\">\r\n   <cc:Work>\r\n    <dc:type rdf:resource=\"http://purl.org/dc/dcmitype/StillImage\"/>\r\n    <dc:date>2021-04-05T18:19:20.361656</dc:date>\r\n    <dc:format>image/svg+xml</dc:format>\r\n    <dc:creator>\r\n     <cc:Agent>\r\n      <dc:title>Matplotlib v3.3.4, https://matplotlib.org/</dc:title>\r\n     </cc:Agent>\r\n    </dc:creator>\r\n   </cc:Work>\r\n  </rdf:RDF>\r\n </metadata>\r\n <defs>\r\n  <style type=\"text/css\">*{stroke-linecap:butt;stroke-linejoin:round;}</style>\r\n </defs>\r\n <g id=\"figure_1\">\r\n  <g id=\"patch_1\">\r\n   <path d=\"M 0 319.044474 \r\nL 905.029477 319.044474 \r\nL 905.029477 0 \r\nL 0 0 \r\nz\r\n\" style=\"fill:none;\"/>\r\n  </g>\r\n  <g id=\"axes_1\">\r\n   <g id=\"patch_2\">\r\n    <path d=\"M 58.441875 279.552599 \r\nL 895.441875 279.552599 \r\nL 895.441875 7.752599 \r\nL 58.441875 7.752599 \r\nz\r\n\" style=\"fill:#e5e5e5;\"/>\r\n   </g>\r\n   <g id=\"matplotlib.axis_1\">\r\n    <g id=\"xtick_1\">\r\n     <g id=\"line2d_1\">\r\n      <path clip-path=\"url(#pf1e4735ddf)\" d=\"M 96.48733 279.552599 \r\nL 96.48733 7.752599 \r\n\" style=\"fill:none;stroke:#ffffff;stroke-linecap:square;stroke-width:0.8;\"/>\r\n     </g>\r\n     <g id=\"line2d_2\">\r\n      <defs>\r\n       <path d=\"M 0 0 \r\nL 0 3.5 \r\n\" id=\"mce801cc43e\" style=\"stroke:#555555;stroke-width:0.8;\"/>\r\n      </defs>\r\n      <g>\r\n       <use style=\"fill:#555555;stroke:#555555;stroke-width:0.8;\" x=\"96.48733\" xlink:href=\"#mce801cc43e\" y=\"279.552599\"/>\r\n      </g>\r\n     </g>\r\n     <g id=\"text_1\">\r\n      <!-- 0 -->\r\n      <g style=\"fill:#555555;\" transform=\"translate(93.30608 294.151037)scale(0.1 -0.1)\">\r\n       <defs>\r\n        <path d=\"M 31.78125 66.40625 \r\nQ 24.171875 66.40625 20.328125 58.90625 \r\nQ 16.5 51.421875 16.5 36.375 \r\nQ 16.5 21.390625 20.328125 13.890625 \r\nQ 24.171875 6.390625 31.78125 6.390625 \r\nQ 39.453125 6.390625 43.28125 13.890625 \r\nQ 47.125 21.390625 47.125 36.375 \r\nQ 47.125 51.421875 43.28125 58.90625 \r\nQ 39.453125 66.40625 31.78125 66.40625 \r\nz\r\nM 31.78125 74.21875 \r\nQ 44.046875 74.21875 50.515625 64.515625 \r\nQ 56.984375 54.828125 56.984375 36.375 \r\nQ 56.984375 17.96875 50.515625 8.265625 \r\nQ 44.046875 -1.421875 31.78125 -1.421875 \r\nQ 19.53125 -1.421875 13.0625 8.265625 \r\nQ 6.59375 17.96875 6.59375 36.375 \r\nQ 6.59375 54.828125 13.0625 64.515625 \r\nQ 19.53125 74.21875 31.78125 74.21875 \r\nz\r\n\" id=\"DejaVuSans-48\"/>\r\n       </defs>\r\n       <use xlink:href=\"#DejaVuSans-48\"/>\r\n      </g>\r\n     </g>\r\n    </g>\r\n    <g id=\"xtick_2\">\r\n     <g id=\"line2d_3\">\r\n      <path clip-path=\"url(#pf1e4735ddf)\" d=\"M 210.055851 279.552599 \r\nL 210.055851 7.752599 \r\n\" style=\"fill:none;stroke:#ffffff;stroke-linecap:square;stroke-width:0.8;\"/>\r\n     </g>\r\n     <g id=\"line2d_4\">\r\n      <g>\r\n       <use style=\"fill:#555555;stroke:#555555;stroke-width:0.8;\" x=\"210.055851\" xlink:href=\"#mce801cc43e\" y=\"279.552599\"/>\r\n      </g>\r\n     </g>\r\n     <g id=\"text_2\">\r\n      <!-- 10 -->\r\n      <g style=\"fill:#555555;\" transform=\"translate(203.693351 294.151037)scale(0.1 -0.1)\">\r\n       <defs>\r\n        <path d=\"M 12.40625 8.296875 \r\nL 28.515625 8.296875 \r\nL 28.515625 63.921875 \r\nL 10.984375 60.40625 \r\nL 10.984375 69.390625 \r\nL 28.421875 72.90625 \r\nL 38.28125 72.90625 \r\nL 38.28125 8.296875 \r\nL 54.390625 8.296875 \r\nL 54.390625 0 \r\nL 12.40625 0 \r\nz\r\n\" id=\"DejaVuSans-49\"/>\r\n       </defs>\r\n       <use xlink:href=\"#DejaVuSans-49\"/>\r\n       <use x=\"63.623047\" xlink:href=\"#DejaVuSans-48\"/>\r\n      </g>\r\n     </g>\r\n    </g>\r\n    <g id=\"xtick_3\">\r\n     <g id=\"line2d_5\">\r\n      <path clip-path=\"url(#pf1e4735ddf)\" d=\"M 323.624372 279.552599 \r\nL 323.624372 7.752599 \r\n\" style=\"fill:none;stroke:#ffffff;stroke-linecap:square;stroke-width:0.8;\"/>\r\n     </g>\r\n     <g id=\"line2d_6\">\r\n      <g>\r\n       <use style=\"fill:#555555;stroke:#555555;stroke-width:0.8;\" x=\"323.624372\" xlink:href=\"#mce801cc43e\" y=\"279.552599\"/>\r\n      </g>\r\n     </g>\r\n     <g id=\"text_3\">\r\n      <!-- 20 -->\r\n      <g style=\"fill:#555555;\" transform=\"translate(317.261872 294.151037)scale(0.1 -0.1)\">\r\n       <defs>\r\n        <path d=\"M 19.1875 8.296875 \r\nL 53.609375 8.296875 \r\nL 53.609375 0 \r\nL 7.328125 0 \r\nL 7.328125 8.296875 \r\nQ 12.9375 14.109375 22.625 23.890625 \r\nQ 32.328125 33.6875 34.8125 36.53125 \r\nQ 39.546875 41.84375 41.421875 45.53125 \r\nQ 43.3125 49.21875 43.3125 52.78125 \r\nQ 43.3125 58.59375 39.234375 62.25 \r\nQ 35.15625 65.921875 28.609375 65.921875 \r\nQ 23.96875 65.921875 18.8125 64.3125 \r\nQ 13.671875 62.703125 7.8125 59.421875 \r\nL 7.8125 69.390625 \r\nQ 13.765625 71.78125 18.9375 73 \r\nQ 24.125 74.21875 28.421875 74.21875 \r\nQ 39.75 74.21875 46.484375 68.546875 \r\nQ 53.21875 62.890625 53.21875 53.421875 \r\nQ 53.21875 48.921875 51.53125 44.890625 \r\nQ 49.859375 40.875 45.40625 35.40625 \r\nQ 44.1875 33.984375 37.640625 27.21875 \r\nQ 31.109375 20.453125 19.1875 8.296875 \r\nz\r\n\" id=\"DejaVuSans-50\"/>\r\n       </defs>\r\n       <use xlink:href=\"#DejaVuSans-50\"/>\r\n       <use x=\"63.623047\" xlink:href=\"#DejaVuSans-48\"/>\r\n      </g>\r\n     </g>\r\n    </g>\r\n    <g id=\"xtick_4\">\r\n     <g id=\"line2d_7\">\r\n      <path clip-path=\"url(#pf1e4735ddf)\" d=\"M 437.192893 279.552599 \r\nL 437.192893 7.752599 \r\n\" style=\"fill:none;stroke:#ffffff;stroke-linecap:square;stroke-width:0.8;\"/>\r\n     </g>\r\n     <g id=\"line2d_8\">\r\n      <g>\r\n       <use style=\"fill:#555555;stroke:#555555;stroke-width:0.8;\" x=\"437.192893\" xlink:href=\"#mce801cc43e\" y=\"279.552599\"/>\r\n      </g>\r\n     </g>\r\n     <g id=\"text_4\">\r\n      <!-- 30 -->\r\n      <g style=\"fill:#555555;\" transform=\"translate(430.830393 294.151037)scale(0.1 -0.1)\">\r\n       <defs>\r\n        <path d=\"M 40.578125 39.3125 \r\nQ 47.65625 37.796875 51.625 33 \r\nQ 55.609375 28.21875 55.609375 21.1875 \r\nQ 55.609375 10.40625 48.1875 4.484375 \r\nQ 40.765625 -1.421875 27.09375 -1.421875 \r\nQ 22.515625 -1.421875 17.65625 -0.515625 \r\nQ 12.796875 0.390625 7.625 2.203125 \r\nL 7.625 11.71875 \r\nQ 11.71875 9.328125 16.59375 8.109375 \r\nQ 21.484375 6.890625 26.8125 6.890625 \r\nQ 36.078125 6.890625 40.9375 10.546875 \r\nQ 45.796875 14.203125 45.796875 21.1875 \r\nQ 45.796875 27.640625 41.28125 31.265625 \r\nQ 36.765625 34.90625 28.71875 34.90625 \r\nL 20.21875 34.90625 \r\nL 20.21875 43.015625 \r\nL 29.109375 43.015625 \r\nQ 36.375 43.015625 40.234375 45.921875 \r\nQ 44.09375 48.828125 44.09375 54.296875 \r\nQ 44.09375 59.90625 40.109375 62.90625 \r\nQ 36.140625 65.921875 28.71875 65.921875 \r\nQ 24.65625 65.921875 20.015625 65.03125 \r\nQ 15.375 64.15625 9.8125 62.3125 \r\nL 9.8125 71.09375 \r\nQ 15.4375 72.65625 20.34375 73.4375 \r\nQ 25.25 74.21875 29.59375 74.21875 \r\nQ 40.828125 74.21875 47.359375 69.109375 \r\nQ 53.90625 64.015625 53.90625 55.328125 \r\nQ 53.90625 49.265625 50.4375 45.09375 \r\nQ 46.96875 40.921875 40.578125 39.3125 \r\nz\r\n\" id=\"DejaVuSans-51\"/>\r\n       </defs>\r\n       <use xlink:href=\"#DejaVuSans-51\"/>\r\n       <use x=\"63.623047\" xlink:href=\"#DejaVuSans-48\"/>\r\n      </g>\r\n     </g>\r\n    </g>\r\n    <g id=\"xtick_5\">\r\n     <g id=\"line2d_9\">\r\n      <path clip-path=\"url(#pf1e4735ddf)\" d=\"M 550.761414 279.552599 \r\nL 550.761414 7.752599 \r\n\" style=\"fill:none;stroke:#ffffff;stroke-linecap:square;stroke-width:0.8;\"/>\r\n     </g>\r\n     <g id=\"line2d_10\">\r\n      <g>\r\n       <use style=\"fill:#555555;stroke:#555555;stroke-width:0.8;\" x=\"550.761414\" xlink:href=\"#mce801cc43e\" y=\"279.552599\"/>\r\n      </g>\r\n     </g>\r\n     <g id=\"text_5\">\r\n      <!-- 40 -->\r\n      <g style=\"fill:#555555;\" transform=\"translate(544.398914 294.151037)scale(0.1 -0.1)\">\r\n       <defs>\r\n        <path d=\"M 37.796875 64.3125 \r\nL 12.890625 25.390625 \r\nL 37.796875 25.390625 \r\nz\r\nM 35.203125 72.90625 \r\nL 47.609375 72.90625 \r\nL 47.609375 25.390625 \r\nL 58.015625 25.390625 \r\nL 58.015625 17.1875 \r\nL 47.609375 17.1875 \r\nL 47.609375 0 \r\nL 37.796875 0 \r\nL 37.796875 17.1875 \r\nL 4.890625 17.1875 \r\nL 4.890625 26.703125 \r\nz\r\n\" id=\"DejaVuSans-52\"/>\r\n       </defs>\r\n       <use xlink:href=\"#DejaVuSans-52\"/>\r\n       <use x=\"63.623047\" xlink:href=\"#DejaVuSans-48\"/>\r\n      </g>\r\n     </g>\r\n    </g>\r\n    <g id=\"xtick_6\">\r\n     <g id=\"line2d_11\">\r\n      <path clip-path=\"url(#pf1e4735ddf)\" d=\"M 664.329935 279.552599 \r\nL 664.329935 7.752599 \r\n\" style=\"fill:none;stroke:#ffffff;stroke-linecap:square;stroke-width:0.8;\"/>\r\n     </g>\r\n     <g id=\"line2d_12\">\r\n      <g>\r\n       <use style=\"fill:#555555;stroke:#555555;stroke-width:0.8;\" x=\"664.329935\" xlink:href=\"#mce801cc43e\" y=\"279.552599\"/>\r\n      </g>\r\n     </g>\r\n     <g id=\"text_6\">\r\n      <!-- 50 -->\r\n      <g style=\"fill:#555555;\" transform=\"translate(657.967435 294.151037)scale(0.1 -0.1)\">\r\n       <defs>\r\n        <path d=\"M 10.796875 72.90625 \r\nL 49.515625 72.90625 \r\nL 49.515625 64.59375 \r\nL 19.828125 64.59375 \r\nL 19.828125 46.734375 \r\nQ 21.96875 47.46875 24.109375 47.828125 \r\nQ 26.265625 48.1875 28.421875 48.1875 \r\nQ 40.625 48.1875 47.75 41.5 \r\nQ 54.890625 34.8125 54.890625 23.390625 \r\nQ 54.890625 11.625 47.5625 5.09375 \r\nQ 40.234375 -1.421875 26.90625 -1.421875 \r\nQ 22.3125 -1.421875 17.546875 -0.640625 \r\nQ 12.796875 0.140625 7.71875 1.703125 \r\nL 7.71875 11.625 \r\nQ 12.109375 9.234375 16.796875 8.0625 \r\nQ 21.484375 6.890625 26.703125 6.890625 \r\nQ 35.15625 6.890625 40.078125 11.328125 \r\nQ 45.015625 15.765625 45.015625 23.390625 \r\nQ 45.015625 31 40.078125 35.4375 \r\nQ 35.15625 39.890625 26.703125 39.890625 \r\nQ 22.75 39.890625 18.8125 39.015625 \r\nQ 14.890625 38.140625 10.796875 36.28125 \r\nz\r\n\" id=\"DejaVuSans-53\"/>\r\n       </defs>\r\n       <use xlink:href=\"#DejaVuSans-53\"/>\r\n       <use x=\"63.623047\" xlink:href=\"#DejaVuSans-48\"/>\r\n      </g>\r\n     </g>\r\n    </g>\r\n    <g id=\"xtick_7\">\r\n     <g id=\"line2d_13\">\r\n      <path clip-path=\"url(#pf1e4735ddf)\" d=\"M 777.898456 279.552599 \r\nL 777.898456 7.752599 \r\n\" style=\"fill:none;stroke:#ffffff;stroke-linecap:square;stroke-width:0.8;\"/>\r\n     </g>\r\n     <g id=\"line2d_14\">\r\n      <g>\r\n       <use style=\"fill:#555555;stroke:#555555;stroke-width:0.8;\" x=\"777.898456\" xlink:href=\"#mce801cc43e\" y=\"279.552599\"/>\r\n      </g>\r\n     </g>\r\n     <g id=\"text_7\">\r\n      <!-- 60 -->\r\n      <g style=\"fill:#555555;\" transform=\"translate(771.535956 294.151037)scale(0.1 -0.1)\">\r\n       <defs>\r\n        <path d=\"M 33.015625 40.375 \r\nQ 26.375 40.375 22.484375 35.828125 \r\nQ 18.609375 31.296875 18.609375 23.390625 \r\nQ 18.609375 15.53125 22.484375 10.953125 \r\nQ 26.375 6.390625 33.015625 6.390625 \r\nQ 39.65625 6.390625 43.53125 10.953125 \r\nQ 47.40625 15.53125 47.40625 23.390625 \r\nQ 47.40625 31.296875 43.53125 35.828125 \r\nQ 39.65625 40.375 33.015625 40.375 \r\nz\r\nM 52.59375 71.296875 \r\nL 52.59375 62.3125 \r\nQ 48.875 64.0625 45.09375 64.984375 \r\nQ 41.3125 65.921875 37.59375 65.921875 \r\nQ 27.828125 65.921875 22.671875 59.328125 \r\nQ 17.53125 52.734375 16.796875 39.40625 \r\nQ 19.671875 43.65625 24.015625 45.921875 \r\nQ 28.375 48.1875 33.59375 48.1875 \r\nQ 44.578125 48.1875 50.953125 41.515625 \r\nQ 57.328125 34.859375 57.328125 23.390625 \r\nQ 57.328125 12.15625 50.6875 5.359375 \r\nQ 44.046875 -1.421875 33.015625 -1.421875 \r\nQ 20.359375 -1.421875 13.671875 8.265625 \r\nQ 6.984375 17.96875 6.984375 36.375 \r\nQ 6.984375 53.65625 15.1875 63.9375 \r\nQ 23.390625 74.21875 37.203125 74.21875 \r\nQ 40.921875 74.21875 44.703125 73.484375 \r\nQ 48.484375 72.75 52.59375 71.296875 \r\nz\r\n\" id=\"DejaVuSans-54\"/>\r\n       </defs>\r\n       <use xlink:href=\"#DejaVuSans-54\"/>\r\n       <use x=\"63.623047\" xlink:href=\"#DejaVuSans-48\"/>\r\n      </g>\r\n     </g>\r\n    </g>\r\n    <g id=\"xtick_8\">\r\n     <g id=\"line2d_15\">\r\n      <path clip-path=\"url(#pf1e4735ddf)\" d=\"M 891.466977 279.552599 \r\nL 891.466977 7.752599 \r\n\" style=\"fill:none;stroke:#ffffff;stroke-linecap:square;stroke-width:0.8;\"/>\r\n     </g>\r\n     <g id=\"line2d_16\">\r\n      <g>\r\n       <use style=\"fill:#555555;stroke:#555555;stroke-width:0.8;\" x=\"891.466977\" xlink:href=\"#mce801cc43e\" y=\"279.552599\"/>\r\n      </g>\r\n     </g>\r\n     <g id=\"text_8\">\r\n      <!-- 70 -->\r\n      <g style=\"fill:#555555;\" transform=\"translate(885.104477 294.151037)scale(0.1 -0.1)\">\r\n       <defs>\r\n        <path d=\"M 8.203125 72.90625 \r\nL 55.078125 72.90625 \r\nL 55.078125 68.703125 \r\nL 28.609375 0 \r\nL 18.3125 0 \r\nL 43.21875 64.59375 \r\nL 8.203125 64.59375 \r\nz\r\n\" id=\"DejaVuSans-55\"/>\r\n       </defs>\r\n       <use xlink:href=\"#DejaVuSans-55\"/>\r\n       <use x=\"63.623047\" xlink:href=\"#DejaVuSans-48\"/>\r\n      </g>\r\n     </g>\r\n    </g>\r\n    <g id=\"text_9\">\r\n     <!-- Features -->\r\n     <g style=\"fill:#555555;\" transform=\"translate(451.148438 309.348849)scale(0.12 -0.12)\">\r\n      <defs>\r\n       <path d=\"M 9.8125 72.90625 \r\nL 51.703125 72.90625 \r\nL 51.703125 64.59375 \r\nL 19.671875 64.59375 \r\nL 19.671875 43.109375 \r\nL 48.578125 43.109375 \r\nL 48.578125 34.8125 \r\nL 19.671875 34.8125 \r\nL 19.671875 0 \r\nL 9.8125 0 \r\nz\r\n\" id=\"DejaVuSans-70\"/>\r\n       <path d=\"M 56.203125 29.59375 \r\nL 56.203125 25.203125 \r\nL 14.890625 25.203125 \r\nQ 15.484375 15.921875 20.484375 11.0625 \r\nQ 25.484375 6.203125 34.421875 6.203125 \r\nQ 39.59375 6.203125 44.453125 7.46875 \r\nQ 49.3125 8.734375 54.109375 11.28125 \r\nL 54.109375 2.78125 \r\nQ 49.265625 0.734375 44.1875 -0.34375 \r\nQ 39.109375 -1.421875 33.890625 -1.421875 \r\nQ 20.796875 -1.421875 13.15625 6.1875 \r\nQ 5.515625 13.8125 5.515625 26.8125 \r\nQ 5.515625 40.234375 12.765625 48.109375 \r\nQ 20.015625 56 32.328125 56 \r\nQ 43.359375 56 49.78125 48.890625 \r\nQ 56.203125 41.796875 56.203125 29.59375 \r\nz\r\nM 47.21875 32.234375 \r\nQ 47.125 39.59375 43.09375 43.984375 \r\nQ 39.0625 48.390625 32.421875 48.390625 \r\nQ 24.90625 48.390625 20.390625 44.140625 \r\nQ 15.875 39.890625 15.1875 32.171875 \r\nz\r\n\" id=\"DejaVuSans-101\"/>\r\n       <path d=\"M 34.28125 27.484375 \r\nQ 23.390625 27.484375 19.1875 25 \r\nQ 14.984375 22.515625 14.984375 16.5 \r\nQ 14.984375 11.71875 18.140625 8.90625 \r\nQ 21.296875 6.109375 26.703125 6.109375 \r\nQ 34.1875 6.109375 38.703125 11.40625 \r\nQ 43.21875 16.703125 43.21875 25.484375 \r\nL 43.21875 27.484375 \r\nz\r\nM 52.203125 31.203125 \r\nL 52.203125 0 \r\nL 43.21875 0 \r\nL 43.21875 8.296875 \r\nQ 40.140625 3.328125 35.546875 0.953125 \r\nQ 30.953125 -1.421875 24.3125 -1.421875 \r\nQ 15.921875 -1.421875 10.953125 3.296875 \r\nQ 6 8.015625 6 15.921875 \r\nQ 6 25.140625 12.171875 29.828125 \r\nQ 18.359375 34.515625 30.609375 34.515625 \r\nL 43.21875 34.515625 \r\nL 43.21875 35.40625 \r\nQ 43.21875 41.609375 39.140625 45 \r\nQ 35.0625 48.390625 27.6875 48.390625 \r\nQ 23 48.390625 18.546875 47.265625 \r\nQ 14.109375 46.140625 10.015625 43.890625 \r\nL 10.015625 52.203125 \r\nQ 14.9375 54.109375 19.578125 55.046875 \r\nQ 24.21875 56 28.609375 56 \r\nQ 40.484375 56 46.34375 49.84375 \r\nQ 52.203125 43.703125 52.203125 31.203125 \r\nz\r\n\" id=\"DejaVuSans-97\"/>\r\n       <path d=\"M 18.3125 70.21875 \r\nL 18.3125 54.6875 \r\nL 36.8125 54.6875 \r\nL 36.8125 47.703125 \r\nL 18.3125 47.703125 \r\nL 18.3125 18.015625 \r\nQ 18.3125 11.328125 20.140625 9.421875 \r\nQ 21.96875 7.515625 27.59375 7.515625 \r\nL 36.8125 7.515625 \r\nL 36.8125 0 \r\nL 27.59375 0 \r\nQ 17.1875 0 13.234375 3.875 \r\nQ 9.28125 7.765625 9.28125 18.015625 \r\nL 9.28125 47.703125 \r\nL 2.6875 47.703125 \r\nL 2.6875 54.6875 \r\nL 9.28125 54.6875 \r\nL 9.28125 70.21875 \r\nz\r\n\" id=\"DejaVuSans-116\"/>\r\n       <path d=\"M 8.5 21.578125 \r\nL 8.5 54.6875 \r\nL 17.484375 54.6875 \r\nL 17.484375 21.921875 \r\nQ 17.484375 14.15625 20.5 10.265625 \r\nQ 23.53125 6.390625 29.59375 6.390625 \r\nQ 36.859375 6.390625 41.078125 11.03125 \r\nQ 45.3125 15.671875 45.3125 23.6875 \r\nL 45.3125 54.6875 \r\nL 54.296875 54.6875 \r\nL 54.296875 0 \r\nL 45.3125 0 \r\nL 45.3125 8.40625 \r\nQ 42.046875 3.421875 37.71875 1 \r\nQ 33.40625 -1.421875 27.6875 -1.421875 \r\nQ 18.265625 -1.421875 13.375 4.4375 \r\nQ 8.5 10.296875 8.5 21.578125 \r\nz\r\nM 31.109375 56 \r\nz\r\n\" id=\"DejaVuSans-117\"/>\r\n       <path d=\"M 41.109375 46.296875 \r\nQ 39.59375 47.171875 37.8125 47.578125 \r\nQ 36.03125 48 33.890625 48 \r\nQ 26.265625 48 22.1875 43.046875 \r\nQ 18.109375 38.09375 18.109375 28.8125 \r\nL 18.109375 0 \r\nL 9.078125 0 \r\nL 9.078125 54.6875 \r\nL 18.109375 54.6875 \r\nL 18.109375 46.1875 \r\nQ 20.953125 51.171875 25.484375 53.578125 \r\nQ 30.03125 56 36.53125 56 \r\nQ 37.453125 56 38.578125 55.875 \r\nQ 39.703125 55.765625 41.0625 55.515625 \r\nz\r\n\" id=\"DejaVuSans-114\"/>\r\n       <path d=\"M 44.28125 53.078125 \r\nL 44.28125 44.578125 \r\nQ 40.484375 46.53125 36.375 47.5 \r\nQ 32.28125 48.484375 27.875 48.484375 \r\nQ 21.1875 48.484375 17.84375 46.4375 \r\nQ 14.5 44.390625 14.5 40.28125 \r\nQ 14.5 37.15625 16.890625 35.375 \r\nQ 19.28125 33.59375 26.515625 31.984375 \r\nL 29.59375 31.296875 \r\nQ 39.15625 29.25 43.1875 25.515625 \r\nQ 47.21875 21.78125 47.21875 15.09375 \r\nQ 47.21875 7.46875 41.1875 3.015625 \r\nQ 35.15625 -1.421875 24.609375 -1.421875 \r\nQ 20.21875 -1.421875 15.453125 -0.5625 \r\nQ 10.6875 0.296875 5.421875 2 \r\nL 5.421875 11.28125 \r\nQ 10.40625 8.6875 15.234375 7.390625 \r\nQ 20.0625 6.109375 24.8125 6.109375 \r\nQ 31.15625 6.109375 34.5625 8.28125 \r\nQ 37.984375 10.453125 37.984375 14.40625 \r\nQ 37.984375 18.0625 35.515625 20.015625 \r\nQ 33.0625 21.96875 24.703125 23.78125 \r\nL 21.578125 24.515625 \r\nQ 13.234375 26.265625 9.515625 29.90625 \r\nQ 5.8125 33.546875 5.8125 39.890625 \r\nQ 5.8125 47.609375 11.28125 51.796875 \r\nQ 16.75 56 26.8125 56 \r\nQ 31.78125 56 36.171875 55.265625 \r\nQ 40.578125 54.546875 44.28125 53.078125 \r\nz\r\n\" id=\"DejaVuSans-115\"/>\r\n      </defs>\r\n      <use xlink:href=\"#DejaVuSans-70\"/>\r\n      <use x=\"52.019531\" xlink:href=\"#DejaVuSans-101\"/>\r\n      <use x=\"113.542969\" xlink:href=\"#DejaVuSans-97\"/>\r\n      <use x=\"174.822266\" xlink:href=\"#DejaVuSans-116\"/>\r\n      <use x=\"214.03125\" xlink:href=\"#DejaVuSans-117\"/>\r\n      <use x=\"277.410156\" xlink:href=\"#DejaVuSans-114\"/>\r\n      <use x=\"316.273438\" xlink:href=\"#DejaVuSans-101\"/>\r\n      <use x=\"377.796875\" xlink:href=\"#DejaVuSans-115\"/>\r\n     </g>\r\n    </g>\r\n   </g>\r\n   <g id=\"matplotlib.axis_2\">\r\n    <g id=\"ytick_1\">\r\n     <g id=\"line2d_17\">\r\n      <path clip-path=\"url(#pf1e4735ddf)\" d=\"M 58.441875 263.266559 \r\nL 895.441875 263.266559 \r\n\" style=\"fill:none;stroke:#ffffff;stroke-linecap:square;stroke-width:0.8;\"/>\r\n     </g>\r\n     <g id=\"line2d_18\">\r\n      <defs>\r\n       <path d=\"M 0 0 \r\nL -3.5 0 \r\n\" id=\"m6d5b9da457\" style=\"stroke:#555555;stroke-width:0.8;\"/>\r\n      </defs>\r\n      <g>\r\n       <use style=\"fill:#555555;stroke:#555555;stroke-width:0.8;\" x=\"58.441875\" xlink:href=\"#m6d5b9da457\" y=\"263.266559\"/>\r\n      </g>\r\n     </g>\r\n     <g id=\"text_10\">\r\n      <!-- 0.725 -->\r\n      <g style=\"fill:#555555;\" transform=\"translate(22.81375 267.065777)scale(0.1 -0.1)\">\r\n       <defs>\r\n        <path d=\"M 10.6875 12.40625 \r\nL 21 12.40625 \r\nL 21 0 \r\nL 10.6875 0 \r\nz\r\n\" id=\"DejaVuSans-46\"/>\r\n       </defs>\r\n       <use xlink:href=\"#DejaVuSans-48\"/>\r\n       <use x=\"63.623047\" xlink:href=\"#DejaVuSans-46\"/>\r\n       <use x=\"95.410156\" xlink:href=\"#DejaVuSans-55\"/>\r\n       <use x=\"159.033203\" xlink:href=\"#DejaVuSans-50\"/>\r\n       <use x=\"222.65625\" xlink:href=\"#DejaVuSans-53\"/>\r\n      </g>\r\n     </g>\r\n    </g>\r\n    <g id=\"ytick_2\">\r\n     <g id=\"line2d_19\">\r\n      <path clip-path=\"url(#pf1e4735ddf)\" d=\"M 58.441875 231.733141 \r\nL 895.441875 231.733141 \r\n\" style=\"fill:none;stroke:#ffffff;stroke-linecap:square;stroke-width:0.8;\"/>\r\n     </g>\r\n     <g id=\"line2d_20\">\r\n      <g>\r\n       <use style=\"fill:#555555;stroke:#555555;stroke-width:0.8;\" x=\"58.441875\" xlink:href=\"#m6d5b9da457\" y=\"231.733141\"/>\r\n      </g>\r\n     </g>\r\n     <g id=\"text_11\">\r\n      <!-- 0.750 -->\r\n      <g style=\"fill:#555555;\" transform=\"translate(22.81375 235.53236)scale(0.1 -0.1)\">\r\n       <use xlink:href=\"#DejaVuSans-48\"/>\r\n       <use x=\"63.623047\" xlink:href=\"#DejaVuSans-46\"/>\r\n       <use x=\"95.410156\" xlink:href=\"#DejaVuSans-55\"/>\r\n       <use x=\"159.033203\" xlink:href=\"#DejaVuSans-53\"/>\r\n       <use x=\"222.65625\" xlink:href=\"#DejaVuSans-48\"/>\r\n      </g>\r\n     </g>\r\n    </g>\r\n    <g id=\"ytick_3\">\r\n     <g id=\"line2d_21\">\r\n      <path clip-path=\"url(#pf1e4735ddf)\" d=\"M 58.441875 200.199724 \r\nL 895.441875 200.199724 \r\n\" style=\"fill:none;stroke:#ffffff;stroke-linecap:square;stroke-width:0.8;\"/>\r\n     </g>\r\n     <g id=\"line2d_22\">\r\n      <g>\r\n       <use style=\"fill:#555555;stroke:#555555;stroke-width:0.8;\" x=\"58.441875\" xlink:href=\"#m6d5b9da457\" y=\"200.199724\"/>\r\n      </g>\r\n     </g>\r\n     <g id=\"text_12\">\r\n      <!-- 0.775 -->\r\n      <g style=\"fill:#555555;\" transform=\"translate(22.81375 203.998942)scale(0.1 -0.1)\">\r\n       <use xlink:href=\"#DejaVuSans-48\"/>\r\n       <use x=\"63.623047\" xlink:href=\"#DejaVuSans-46\"/>\r\n       <use x=\"95.410156\" xlink:href=\"#DejaVuSans-55\"/>\r\n       <use x=\"159.033203\" xlink:href=\"#DejaVuSans-55\"/>\r\n       <use x=\"222.65625\" xlink:href=\"#DejaVuSans-53\"/>\r\n      </g>\r\n     </g>\r\n    </g>\r\n    <g id=\"ytick_4\">\r\n     <g id=\"line2d_23\">\r\n      <path clip-path=\"url(#pf1e4735ddf)\" d=\"M 58.441875 168.666306 \r\nL 895.441875 168.666306 \r\n\" style=\"fill:none;stroke:#ffffff;stroke-linecap:square;stroke-width:0.8;\"/>\r\n     </g>\r\n     <g id=\"line2d_24\">\r\n      <g>\r\n       <use style=\"fill:#555555;stroke:#555555;stroke-width:0.8;\" x=\"58.441875\" xlink:href=\"#m6d5b9da457\" y=\"168.666306\"/>\r\n      </g>\r\n     </g>\r\n     <g id=\"text_13\">\r\n      <!-- 0.800 -->\r\n      <g style=\"fill:#555555;\" transform=\"translate(22.81375 172.465525)scale(0.1 -0.1)\">\r\n       <defs>\r\n        <path d=\"M 31.78125 34.625 \r\nQ 24.75 34.625 20.71875 30.859375 \r\nQ 16.703125 27.09375 16.703125 20.515625 \r\nQ 16.703125 13.921875 20.71875 10.15625 \r\nQ 24.75 6.390625 31.78125 6.390625 \r\nQ 38.8125 6.390625 42.859375 10.171875 \r\nQ 46.921875 13.96875 46.921875 20.515625 \r\nQ 46.921875 27.09375 42.890625 30.859375 \r\nQ 38.875 34.625 31.78125 34.625 \r\nz\r\nM 21.921875 38.8125 \r\nQ 15.578125 40.375 12.03125 44.71875 \r\nQ 8.5 49.078125 8.5 55.328125 \r\nQ 8.5 64.0625 14.71875 69.140625 \r\nQ 20.953125 74.21875 31.78125 74.21875 \r\nQ 42.671875 74.21875 48.875 69.140625 \r\nQ 55.078125 64.0625 55.078125 55.328125 \r\nQ 55.078125 49.078125 51.53125 44.71875 \r\nQ 48 40.375 41.703125 38.8125 \r\nQ 48.828125 37.15625 52.796875 32.3125 \r\nQ 56.78125 27.484375 56.78125 20.515625 \r\nQ 56.78125 9.90625 50.3125 4.234375 \r\nQ 43.84375 -1.421875 31.78125 -1.421875 \r\nQ 19.734375 -1.421875 13.25 4.234375 \r\nQ 6.78125 9.90625 6.78125 20.515625 \r\nQ 6.78125 27.484375 10.78125 32.3125 \r\nQ 14.796875 37.15625 21.921875 38.8125 \r\nz\r\nM 18.3125 54.390625 \r\nQ 18.3125 48.734375 21.84375 45.5625 \r\nQ 25.390625 42.390625 31.78125 42.390625 \r\nQ 38.140625 42.390625 41.71875 45.5625 \r\nQ 45.3125 48.734375 45.3125 54.390625 \r\nQ 45.3125 60.0625 41.71875 63.234375 \r\nQ 38.140625 66.40625 31.78125 66.40625 \r\nQ 25.390625 66.40625 21.84375 63.234375 \r\nQ 18.3125 60.0625 18.3125 54.390625 \r\nz\r\n\" id=\"DejaVuSans-56\"/>\r\n       </defs>\r\n       <use xlink:href=\"#DejaVuSans-48\"/>\r\n       <use x=\"63.623047\" xlink:href=\"#DejaVuSans-46\"/>\r\n       <use x=\"95.410156\" xlink:href=\"#DejaVuSans-56\"/>\r\n       <use x=\"159.033203\" xlink:href=\"#DejaVuSans-48\"/>\r\n       <use x=\"222.65625\" xlink:href=\"#DejaVuSans-48\"/>\r\n      </g>\r\n     </g>\r\n    </g>\r\n    <g id=\"ytick_5\">\r\n     <g id=\"line2d_25\">\r\n      <path clip-path=\"url(#pf1e4735ddf)\" d=\"M 58.441875 137.132889 \r\nL 895.441875 137.132889 \r\n\" style=\"fill:none;stroke:#ffffff;stroke-linecap:square;stroke-width:0.8;\"/>\r\n     </g>\r\n     <g id=\"line2d_26\">\r\n      <g>\r\n       <use style=\"fill:#555555;stroke:#555555;stroke-width:0.8;\" x=\"58.441875\" xlink:href=\"#m6d5b9da457\" y=\"137.132889\"/>\r\n      </g>\r\n     </g>\r\n     <g id=\"text_14\">\r\n      <!-- 0.825 -->\r\n      <g style=\"fill:#555555;\" transform=\"translate(22.81375 140.932107)scale(0.1 -0.1)\">\r\n       <use xlink:href=\"#DejaVuSans-48\"/>\r\n       <use x=\"63.623047\" xlink:href=\"#DejaVuSans-46\"/>\r\n       <use x=\"95.410156\" xlink:href=\"#DejaVuSans-56\"/>\r\n       <use x=\"159.033203\" xlink:href=\"#DejaVuSans-50\"/>\r\n       <use x=\"222.65625\" xlink:href=\"#DejaVuSans-53\"/>\r\n      </g>\r\n     </g>\r\n    </g>\r\n    <g id=\"ytick_6\">\r\n     <g id=\"line2d_27\">\r\n      <path clip-path=\"url(#pf1e4735ddf)\" d=\"M 58.441875 105.599471 \r\nL 895.441875 105.599471 \r\n\" style=\"fill:none;stroke:#ffffff;stroke-linecap:square;stroke-width:0.8;\"/>\r\n     </g>\r\n     <g id=\"line2d_28\">\r\n      <g>\r\n       <use style=\"fill:#555555;stroke:#555555;stroke-width:0.8;\" x=\"58.441875\" xlink:href=\"#m6d5b9da457\" y=\"105.599471\"/>\r\n      </g>\r\n     </g>\r\n     <g id=\"text_15\">\r\n      <!-- 0.850 -->\r\n      <g style=\"fill:#555555;\" transform=\"translate(22.81375 109.39869)scale(0.1 -0.1)\">\r\n       <use xlink:href=\"#DejaVuSans-48\"/>\r\n       <use x=\"63.623047\" xlink:href=\"#DejaVuSans-46\"/>\r\n       <use x=\"95.410156\" xlink:href=\"#DejaVuSans-56\"/>\r\n       <use x=\"159.033203\" xlink:href=\"#DejaVuSans-53\"/>\r\n       <use x=\"222.65625\" xlink:href=\"#DejaVuSans-48\"/>\r\n      </g>\r\n     </g>\r\n    </g>\r\n    <g id=\"ytick_7\">\r\n     <g id=\"line2d_29\">\r\n      <path clip-path=\"url(#pf1e4735ddf)\" d=\"M 58.441875 74.066054 \r\nL 895.441875 74.066054 \r\n\" style=\"fill:none;stroke:#ffffff;stroke-linecap:square;stroke-width:0.8;\"/>\r\n     </g>\r\n     <g id=\"line2d_30\">\r\n      <g>\r\n       <use style=\"fill:#555555;stroke:#555555;stroke-width:0.8;\" x=\"58.441875\" xlink:href=\"#m6d5b9da457\" y=\"74.066054\"/>\r\n      </g>\r\n     </g>\r\n     <g id=\"text_16\">\r\n      <!-- 0.875 -->\r\n      <g style=\"fill:#555555;\" transform=\"translate(22.81375 77.865272)scale(0.1 -0.1)\">\r\n       <use xlink:href=\"#DejaVuSans-48\"/>\r\n       <use x=\"63.623047\" xlink:href=\"#DejaVuSans-46\"/>\r\n       <use x=\"95.410156\" xlink:href=\"#DejaVuSans-56\"/>\r\n       <use x=\"159.033203\" xlink:href=\"#DejaVuSans-55\"/>\r\n       <use x=\"222.65625\" xlink:href=\"#DejaVuSans-53\"/>\r\n      </g>\r\n     </g>\r\n    </g>\r\n    <g id=\"ytick_8\">\r\n     <g id=\"line2d_31\">\r\n      <path clip-path=\"url(#pf1e4735ddf)\" d=\"M 58.441875 42.532636 \r\nL 895.441875 42.532636 \r\n\" style=\"fill:none;stroke:#ffffff;stroke-linecap:square;stroke-width:0.8;\"/>\r\n     </g>\r\n     <g id=\"line2d_32\">\r\n      <g>\r\n       <use style=\"fill:#555555;stroke:#555555;stroke-width:0.8;\" x=\"58.441875\" xlink:href=\"#m6d5b9da457\" y=\"42.532636\"/>\r\n      </g>\r\n     </g>\r\n     <g id=\"text_17\">\r\n      <!-- 0.900 -->\r\n      <g style=\"fill:#555555;\" transform=\"translate(22.81375 46.331855)scale(0.1 -0.1)\">\r\n       <defs>\r\n        <path d=\"M 10.984375 1.515625 \r\nL 10.984375 10.5 \r\nQ 14.703125 8.734375 18.5 7.8125 \r\nQ 22.3125 6.890625 25.984375 6.890625 \r\nQ 35.75 6.890625 40.890625 13.453125 \r\nQ 46.046875 20.015625 46.78125 33.40625 \r\nQ 43.953125 29.203125 39.59375 26.953125 \r\nQ 35.25 24.703125 29.984375 24.703125 \r\nQ 19.046875 24.703125 12.671875 31.3125 \r\nQ 6.296875 37.9375 6.296875 49.421875 \r\nQ 6.296875 60.640625 12.9375 67.421875 \r\nQ 19.578125 74.21875 30.609375 74.21875 \r\nQ 43.265625 74.21875 49.921875 64.515625 \r\nQ 56.59375 54.828125 56.59375 36.375 \r\nQ 56.59375 19.140625 48.40625 8.859375 \r\nQ 40.234375 -1.421875 26.421875 -1.421875 \r\nQ 22.703125 -1.421875 18.890625 -0.6875 \r\nQ 15.09375 0.046875 10.984375 1.515625 \r\nz\r\nM 30.609375 32.421875 \r\nQ 37.25 32.421875 41.125 36.953125 \r\nQ 45.015625 41.5 45.015625 49.421875 \r\nQ 45.015625 57.28125 41.125 61.84375 \r\nQ 37.25 66.40625 30.609375 66.40625 \r\nQ 23.96875 66.40625 20.09375 61.84375 \r\nQ 16.21875 57.28125 16.21875 49.421875 \r\nQ 16.21875 41.5 20.09375 36.953125 \r\nQ 23.96875 32.421875 30.609375 32.421875 \r\nz\r\n\" id=\"DejaVuSans-57\"/>\r\n       </defs>\r\n       <use xlink:href=\"#DejaVuSans-48\"/>\r\n       <use x=\"63.623047\" xlink:href=\"#DejaVuSans-46\"/>\r\n       <use x=\"95.410156\" xlink:href=\"#DejaVuSans-57\"/>\r\n       <use x=\"159.033203\" xlink:href=\"#DejaVuSans-48\"/>\r\n       <use x=\"222.65625\" xlink:href=\"#DejaVuSans-48\"/>\r\n      </g>\r\n     </g>\r\n    </g>\r\n    <g id=\"ytick_9\">\r\n     <g id=\"line2d_33\">\r\n      <path clip-path=\"url(#pf1e4735ddf)\" d=\"M 58.441875 10.999219 \r\nL 895.441875 10.999219 \r\n\" style=\"fill:none;stroke:#ffffff;stroke-linecap:square;stroke-width:0.8;\"/>\r\n     </g>\r\n     <g id=\"line2d_34\">\r\n      <g>\r\n       <use style=\"fill:#555555;stroke:#555555;stroke-width:0.8;\" x=\"58.441875\" xlink:href=\"#m6d5b9da457\" y=\"10.999219\"/>\r\n      </g>\r\n     </g>\r\n     <g id=\"text_18\">\r\n      <!-- 0.925 -->\r\n      <g style=\"fill:#555555;\" transform=\"translate(22.81375 14.798437)scale(0.1 -0.1)\">\r\n       <use xlink:href=\"#DejaVuSans-48\"/>\r\n       <use x=\"63.623047\" xlink:href=\"#DejaVuSans-46\"/>\r\n       <use x=\"95.410156\" xlink:href=\"#DejaVuSans-57\"/>\r\n       <use x=\"159.033203\" xlink:href=\"#DejaVuSans-50\"/>\r\n       <use x=\"222.65625\" xlink:href=\"#DejaVuSans-53\"/>\r\n      </g>\r\n     </g>\r\n    </g>\r\n    <g id=\"text_19\">\r\n     <!-- Recall -->\r\n     <g style=\"fill:#555555;\" transform=\"translate(16.318125 161.553224)rotate(-90)scale(0.12 -0.12)\">\r\n      <defs>\r\n       <path d=\"M 44.390625 34.1875 \r\nQ 47.5625 33.109375 50.5625 29.59375 \r\nQ 53.5625 26.078125 56.59375 19.921875 \r\nL 66.609375 0 \r\nL 56 0 \r\nL 46.6875 18.703125 \r\nQ 43.0625 26.03125 39.671875 28.421875 \r\nQ 36.28125 30.8125 30.421875 30.8125 \r\nL 19.671875 30.8125 \r\nL 19.671875 0 \r\nL 9.8125 0 \r\nL 9.8125 72.90625 \r\nL 32.078125 72.90625 \r\nQ 44.578125 72.90625 50.734375 67.671875 \r\nQ 56.890625 62.453125 56.890625 51.90625 \r\nQ 56.890625 45.015625 53.6875 40.46875 \r\nQ 50.484375 35.9375 44.390625 34.1875 \r\nz\r\nM 19.671875 64.796875 \r\nL 19.671875 38.921875 \r\nL 32.078125 38.921875 \r\nQ 39.203125 38.921875 42.84375 42.21875 \r\nQ 46.484375 45.515625 46.484375 51.90625 \r\nQ 46.484375 58.296875 42.84375 61.546875 \r\nQ 39.203125 64.796875 32.078125 64.796875 \r\nz\r\n\" id=\"DejaVuSans-82\"/>\r\n       <path d=\"M 48.78125 52.59375 \r\nL 48.78125 44.1875 \r\nQ 44.96875 46.296875 41.140625 47.34375 \r\nQ 37.3125 48.390625 33.40625 48.390625 \r\nQ 24.65625 48.390625 19.8125 42.84375 \r\nQ 14.984375 37.3125 14.984375 27.296875 \r\nQ 14.984375 17.28125 19.8125 11.734375 \r\nQ 24.65625 6.203125 33.40625 6.203125 \r\nQ 37.3125 6.203125 41.140625 7.25 \r\nQ 44.96875 8.296875 48.78125 10.40625 \r\nL 48.78125 2.09375 \r\nQ 45.015625 0.34375 40.984375 -0.53125 \r\nQ 36.96875 -1.421875 32.421875 -1.421875 \r\nQ 20.0625 -1.421875 12.78125 6.34375 \r\nQ 5.515625 14.109375 5.515625 27.296875 \r\nQ 5.515625 40.671875 12.859375 48.328125 \r\nQ 20.21875 56 33.015625 56 \r\nQ 37.15625 56 41.109375 55.140625 \r\nQ 45.0625 54.296875 48.78125 52.59375 \r\nz\r\n\" id=\"DejaVuSans-99\"/>\r\n       <path d=\"M 9.421875 75.984375 \r\nL 18.40625 75.984375 \r\nL 18.40625 0 \r\nL 9.421875 0 \r\nz\r\n\" id=\"DejaVuSans-108\"/>\r\n      </defs>\r\n      <use xlink:href=\"#DejaVuSans-82\"/>\r\n      <use x=\"64.982422\" xlink:href=\"#DejaVuSans-101\"/>\r\n      <use x=\"126.505859\" xlink:href=\"#DejaVuSans-99\"/>\r\n      <use x=\"181.486328\" xlink:href=\"#DejaVuSans-97\"/>\r\n      <use x=\"242.765625\" xlink:href=\"#DejaVuSans-108\"/>\r\n      <use x=\"270.548828\" xlink:href=\"#DejaVuSans-108\"/>\r\n     </g>\r\n    </g>\r\n   </g>\r\n   <g id=\"line2d_35\">\r\n    <path clip-path=\"url(#pf1e4735ddf)\" d=\"M 96.48733 267.198054 \r\nL 107.844182 266.001132 \r\nL 119.201034 229.477084 \r\nL 130.557886 219.683198 \r\nL 141.914738 169.666887 \r\nL 153.27159 133.62552 \r\nL 164.628442 118.769996 \r\nL 175.985294 98.347325 \r\nL 187.342146 85.650833 \r\nL 198.698998 70.589859 \r\nL 210.055851 64.292154 \r\nL 221.412703 59.618613 \r\nL 232.769555 56.288752 \r\nL 244.126407 52.182685 \r\nL 255.483259 51.908731 \r\nL 266.840111 49.580118 \r\nL 278.196963 41.876756 \r\nL 289.553815 38.814325 \r\nL 300.910667 37.933753 \r\nL 312.26752 36.612907 \r\nL 323.624372 36.234586 \r\nL 334.981224 34.062531 \r\nL 346.338076 33.690742 \r\nL 357.694928 32.891706 \r\nL 369.05178 31.303417 \r\nL 380.408632 28.276861 \r\nL 391.765484 27.42565 \r\nL 403.122336 26.098271 \r\nL 414.479188 24.855691 \r\nL 425.836041 25.168768 \r\nL 437.192893 23.779424 \r\nL 448.549745 23.798993 \r\nL 459.906597 24.526278 \r\nL 471.263449 23.365233 \r\nL 482.620301 23.185858 \r\nL 493.977153 22.47488 \r\nL 505.334005 22.85972 \r\nL 516.690857 21.773683 \r\nL 528.047709 22.416175 \r\nL 539.404562 22.132435 \r\nL 550.761414 22.928209 \r\nL 562.118266 22.71948 \r\nL 573.475118 22.484662 \r\nL 584.83197 22.461831 \r\nL 596.188822 22.712956 \r\nL 607.545674 22.716218 \r\nL 618.902526 22.514014 \r\nL 630.259378 22.246582 \r\nL 641.61623 21.985672 \r\nL 652.973083 22.589022 \r\nL 664.329935 23.143484 \r\nL 675.686787 23.267416 \r\nL 687.043639 20.107144 \r\nL 698.400491 20.416976 \r\nL 709.757343 20.482203 \r\nL 721.114195 20.563737 \r\nL 732.471047 20.495248 \r\nL 743.827899 24.291489 \r\nL 755.184752 24.258875 \r\nL 766.541604 24.144728 \r\nL 777.898456 24.470865 \r\nL 789.255308 24.451295 \r\nL 800.61216 24.513264 \r\nL 811.969012 24.718729 \r\nL 823.325864 23.53811 \r\nL 834.682716 26.075429 \r\nL 846.039568 26.31351 \r\nL 857.39642 24.046885 \r\n\" style=\"fill:none;stroke:#e24a33;stroke-linecap:square;stroke-width:1.5;\"/>\r\n   </g>\r\n   <g id=\"patch_3\">\r\n    <path d=\"M 58.441875 279.552599 \r\nL 58.441875 7.752599 \r\n\" style=\"fill:none;stroke:#ffffff;stroke-linecap:square;stroke-linejoin:miter;\"/>\r\n   </g>\r\n   <g id=\"patch_4\">\r\n    <path d=\"M 895.441875 279.552599 \r\nL 895.441875 7.752599 \r\n\" style=\"fill:none;stroke:#ffffff;stroke-linecap:square;stroke-linejoin:miter;\"/>\r\n   </g>\r\n   <g id=\"patch_5\">\r\n    <path d=\"M 58.441875 279.552599 \r\nL 895.441875 279.552599 \r\n\" style=\"fill:none;stroke:#ffffff;stroke-linecap:square;stroke-linejoin:miter;\"/>\r\n   </g>\r\n   <g id=\"patch_6\">\r\n    <path d=\"M 58.441875 7.752599 \r\nL 895.441875 7.752599 \r\n\" style=\"fill:none;stroke:#ffffff;stroke-linecap:square;stroke-linejoin:miter;\"/>\r\n   </g>\r\n  </g>\r\n </g>\r\n <defs>\r\n  <clipPath id=\"pf1e4735ddf\">\r\n   <rect height=\"271.8\" width=\"837\" x=\"58.441875\" y=\"7.752599\"/>\r\n  </clipPath>\r\n </defs>\r\n</svg>\r\n",
      "image/png": "[encoded data removed]"
     },
     "metadata": {
      "needs_background": "light"
     }
    }
   ],
   "source": [
    "plot_rfe_result(rfecv_log_reg.grid_scores_)"
   ]
  },
  {
   "source": [
    "cols_log_reg = rfecv_log_reg.support_\n",
    "print(f\"Optimal features: {cols_log_reg.sum()}\")"
   ],
   "cell_type": "code",
   "metadata": {},
   "execution_count": 13,
   "outputs": [
    {
     "output_type": "stream",
     "name": "stdout",
     "text": [
      "Optimal features: 53\n"
     ]
    }
   ]
  },
  {
   "source": [
    "#### Model building using the selected columns with stratified k-fold CV"
   ],
   "cell_type": "markdown",
   "metadata": {}
  },
  {
   "cell_type": "code",
   "execution_count": 14,
   "metadata": {},
   "outputs": [
    {
     "output_type": "stream",
     "name": "stderr",
     "text": [
      "[Parallel(n_jobs=-1)]: Using backend LokyBackend with 8 concurrent workers.\n",
      "[Parallel(n_jobs=-1)]: Done   2 out of   5 | elapsed:    6.1s remaining:    9.2s\n",
      "[Parallel(n_jobs=-1)]: Done   5 out of   5 | elapsed:    6.6s finished\n"
     ]
    }
   ],
   "source": [
    "log_reg_cv = cross_validate(\n",
    "    log_reg,\n",
    "    X_resampled[:,cols_log_reg],\n",
    "    y_resampled,\n",
    "    verbose=1,\n",
    "    return_train_score=True,\n",
    "    n_jobs=-1,\n",
    "    return_estimator=True,\n",
    "    cv=StratifiedKFold(5, shuffle=True, random_state=42)\n",
    ")"
   ]
  },
  {
   "cell_type": "code",
   "execution_count": 15,
   "metadata": {},
   "outputs": [
    {
     "output_type": "stream",
     "name": "stdout",
     "text": [
      "[0.91923305 0.92001433 0.92232067 0.92084175 0.92149326]\n"
     ]
    }
   ],
   "source": [
    "print(log_reg_cv[\"test_score\"])"
   ]
  },
  {
   "source": [
    "#### Selecting the best model from the CV results"
   ],
   "cell_type": "markdown",
   "metadata": {}
  },
  {
   "cell_type": "code",
   "execution_count": 16,
   "metadata": {},
   "outputs": [],
   "source": [
    "log_reg_best = log_reg_cv[\"estimator\"][log_reg_cv[\"test_score\"].argmax()]"
   ]
  },
  {
   "source": [
    "## Saving the data into pickle files"
   ],
   "cell_type": "markdown",
   "metadata": {}
  },
  {
   "cell_type": "code",
   "execution_count": 17,
   "metadata": {},
   "outputs": [],
   "source": [
    "for f, file_name in (log_reg_best, \"log_reg\"), (cols_log_reg, \"cols_log_reg\"):\n",
    "    pickle.dump(f, open(getcwd() + \"/data/models/\" + file_name + \".pkl\", \"wb\"))\n",
    "    del f"
   ]
  },
  {
   "source": [
    "### Deleting all the variables present in the memory"
   ],
   "cell_type": "markdown",
   "metadata": {}
  },
  {
   "cell_type": "code",
   "execution_count": 18,
   "metadata": {},
   "outputs": [],
   "source": [
    "%reset -f"
   ]
  }
 ]
}